{
  "cells": [
    {
      "cell_type": "markdown",
      "metadata": {
        "id": "PRSJZz8Ikhlz"
      },
      "source": [
        "# Question Answering System Classification Part (BERT)\n"
      ]
    },
    {
      "cell_type": "markdown",
      "metadata": {
        "id": "CIf7EO1okiQe"
      },
      "source": [
        "## Importing the necessary packages and libraries"
      ]
    },
    {
      "cell_type": "code",
      "execution_count": null,
      "metadata": {
        "colab": {
          "base_uri": "https://localhost:8080/"
        },
        "id": "-FG6raWFSdhA",
        "outputId": "1d6bd332-6762-4069-ad41-fcf0c5e8c171"
      },
      "outputs": [
        {
          "output_type": "stream",
          "name": "stderr",
          "text": [
            "[nltk_data] Downloading package stopwords to /root/nltk_data...\n",
            "[nltk_data]   Package stopwords is already up-to-date!\n",
            "[nltk_data] Downloading package wordnet to /root/nltk_data...\n",
            "[nltk_data]   Package wordnet is already up-to-date!\n",
            "[nltk_data] Downloading package omw-1.4 to /root/nltk_data...\n",
            "[nltk_data]   Package omw-1.4 is already up-to-date!\n"
          ]
        },
        {
          "output_type": "stream",
          "name": "stdout",
          "text": [
            "Looking in indexes: https://pypi.org/simple, https://us-python.pkg.dev/colab-wheels/public/simple/\n",
            "Requirement already satisfied: transformers in /usr/local/lib/python3.8/dist-packages (4.25.1)\n",
            "Requirement already satisfied: tokenizers!=0.11.3,<0.14,>=0.11.1 in /usr/local/lib/python3.8/dist-packages (from transformers) (0.13.2)\n",
            "Requirement already satisfied: filelock in /usr/local/lib/python3.8/dist-packages (from transformers) (3.9.0)\n",
            "Requirement already satisfied: numpy>=1.17 in /usr/local/lib/python3.8/dist-packages (from transformers) (1.21.6)\n",
            "Requirement already satisfied: regex!=2019.12.17 in /usr/local/lib/python3.8/dist-packages (from transformers) (2022.6.2)\n",
            "Requirement already satisfied: pyyaml>=5.1 in /usr/local/lib/python3.8/dist-packages (from transformers) (6.0)\n",
            "Requirement already satisfied: tqdm>=4.27 in /usr/local/lib/python3.8/dist-packages (from transformers) (4.64.1)\n",
            "Requirement already satisfied: packaging>=20.0 in /usr/local/lib/python3.8/dist-packages (from transformers) (21.3)\n",
            "Requirement already satisfied: requests in /usr/local/lib/python3.8/dist-packages (from transformers) (2.25.1)\n",
            "Requirement already satisfied: huggingface-hub<1.0,>=0.10.0 in /usr/local/lib/python3.8/dist-packages (from transformers) (0.11.1)\n",
            "Requirement already satisfied: typing-extensions>=3.7.4.3 in /usr/local/lib/python3.8/dist-packages (from huggingface-hub<1.0,>=0.10.0->transformers) (4.4.0)\n",
            "Requirement already satisfied: pyparsing!=3.0.5,>=2.0.2 in /usr/local/lib/python3.8/dist-packages (from packaging>=20.0->transformers) (3.0.9)\n",
            "Requirement already satisfied: chardet<5,>=3.0.2 in /usr/local/lib/python3.8/dist-packages (from requests->transformers) (4.0.0)\n",
            "Requirement already satisfied: urllib3<1.27,>=1.21.1 in /usr/local/lib/python3.8/dist-packages (from requests->transformers) (1.24.3)\n",
            "Requirement already satisfied: idna<3,>=2.5 in /usr/local/lib/python3.8/dist-packages (from requests->transformers) (2.10)\n",
            "Requirement already satisfied: certifi>=2017.4.17 in /usr/local/lib/python3.8/dist-packages (from requests->transformers) (2022.12.7)\n"
          ]
        }
      ],
      "source": [
        "## for data\n",
        "import json\n",
        "import pandas as pd\n",
        "import numpy as np\n",
        "from sklearn import metrics, manifold\n",
        "## for processing\n",
        "import re\n",
        "import nltk\n",
        "nltk.download('stopwords')\n",
        "nltk.download('wordnet')\n",
        "nltk.download('omw-1.4')\n",
        "\n",
        "import string\n",
        "\n",
        "## for plotting\n",
        "import matplotlib.pyplot as plt\n",
        "import seaborn as sns\n",
        "## for w2v\n",
        "import gensim\n",
        "import gensim.downloader as gensim_api\n",
        "## for bert\n",
        "!pip install transformers\n",
        "import transformers"
      ]
    },
    {
      "cell_type": "markdown",
      "metadata": {
        "id": "JbcqtywVmXA4"
      },
      "source": [
        "##Using the gensim api in order to create \"clusters\" of words that we are going to use instead of any training data"
      ]
    },
    {
      "cell_type": "code",
      "execution_count": null,
      "metadata": {
        "id": "hK6Zgi8u2C83"
      },
      "outputs": [],
      "source": [
        "nlp1 = gensim_api.load(\"glove-wiki-gigaword-300\")"
      ]
    },
    {
      "cell_type": "code",
      "execution_count": null,
      "metadata": {
        "colab": {
          "base_uri": "https://localhost:8080/"
        },
        "id": "uTlCjrJs2tJF",
        "outputId": "81391701-ec0a-4c52-bf54-78190adbb8fe"
      },
      "outputs": [
        {
          "output_type": "stream",
          "name": "stdout",
          "text": [
            "PLACE :  ['what', 'culture', 'this', 'place', 'myth', 'fact', 'of', 'which', 'just', 'there', 'historical', 'in', 'life', 'modern', 'history', 'the', 'where', 'part', 'tradition', 'town', 'one', 'village', 'century', 'time', 'ancient', 'is', 'it', 'same', '.'] ... 29\n",
            "BEACH :  ['inland', 'sea', 'fish', 'water', 'surf', 'along', 'lagoon', 'pond', 'mud', 'swimming', 'waters', 'boat', 'coastal', 'shallow', 'shores', 'shoreline', 'beach', 'swim', 'shore', 'boats', 'washed', 'river', 'surface', 'seas', 'beaches', 'fishing', 'lake', 'coral', 'sand', 'ocean'] ... 30\n",
            "ACTIVITY :  ['walking', 'concert', 'riding', 'this', 'ride', 'rides', 'trip', 'coming', 'cycling', 'activities', 'events', 'bike', '.', 'event', 'day', 'festival', 'weekend', 'year', 'traveling', 'part', 'activity', 'festivals', 'trips', 'summer', 'tours', 'tour', 'same', 'during', 'touring'] ... 29\n",
            "TOURIST_ATTRACTION :  ['monument', 'church', 'famous', 'historical', 'attractions', 'temple', 'cathedral', 'monastery', 'historic', 'near', 'site', 'built', 'volcano', 'ruins', 'castle', 'museum', 'situated', 'archaeological', 'town', 'village', 'nearby', 'century', 'palace', 'attraction', 'medieval', 'heritage', 'ancient', 'located', 'chapel', 'park', 'preserved'] ... 31\n",
            "LOCAL_FOOD_DRINK :  ['restaurants', 'dish', 'snacks', 'foods', 'drink', 'drinks', 'meat', 'bread', 'dessert', 'beer', 'cooked', 'traditional', 'cooking', 'eating', 'taste', 'meals', 'fruits', 'cuisine', 'food', 'eaten', 'ingredients', 'coffee', 'fruit', 'vegetable', 'seafood', 'chicken', 'eat', 'meal', 'dishes', 'vegetables', 'wine', 'ate'] ... 32\n",
            "NOTABLE_PERSON :  ['woman', 'father', 'named', 'brother', 'married', 'names', 'notable', 'famous', 'death', 'whose', 'person', 'whom', 'only', 'known', 'as', 'lived', 'who', 'although', 'name', 'one', 'son', 'born', 'mother', '—', 'daughter', 'may', 'man', 'died', 'same', ','] ... 30\n",
            "CLIMATE :  ['rainfall', 'dry', 'winter', 'precipitation', 'weather', 'month', 'change', 'storms', 'rains', 'temperatures', 'warmer', 'temperature', 'cold', 'warming', 'wind', 'humidity', 'warm', 'humid', 'rain', 'day', 'winds', 'snow', 'forecast', 'expected', 'due', 'climate', 'days', 'conditions', 'cooler', 'rainy'] ... 30\n",
            "HEALTHCARE :  ['nurse', 'emergency', 'ambulance', 'doctor', 'physicians', 'veterinary', 'hospitals', 'medicine', 'dental', 'nurses', 'nursing', 'dr.', 'pediatric', 'medical', 'doctors', 'patient', 'services', 'treatment', 'healthcare', 'surgery', 'patients', 'outpatient', 'health', 'hospital', 'care', 'physician', 'psychiatric', 'surgical', 'clinic', 'clinical'] ... 30\n",
            "INFORMATION :  ['information', 'means', 'provides', 'useful', 'can', 'without', 'use', 'provided', 'certain', 'data', 'these', 'access', 'knowledge', 'you', 'using', 'allows', 'example', 'providing', 'instance', 'need', 'available', 'driving', 'atm', 'rent', 'provide', 'specific', 'money', 'required', 'rather', 'how', 'any'] ... 31\n"
          ]
        }
      ],
      "source": [
        "## Function to apply\n",
        "def get_similar_words(lst_words, top, nlp):\n",
        "    lst_out = lst_words\n",
        "    for tupla in nlp.most_similar(lst_words, topn=top):\n",
        "        lst_out.append(tupla[0])\n",
        "    return list(set(lst_out))\n",
        "\n",
        "n=25\n",
        "\n",
        "## Create Dictionary {category:[keywords]}\n",
        "dic_clusters = {}\n",
        "dic_clusters[\"PLACE\"] = get_similar_words(['village','place','history','myth'], top=n, nlp=nlp1)\n",
        "dic_clusters[\"BEACH\"] = get_similar_words(['beach','sand','water','sea','swim'], top=n, nlp=nlp1)\n",
        "dic_clusters[\"ACTIVITY\"] = get_similar_words(['activity','festival','riding','tour'], top=n, nlp=nlp1)\n",
        "dic_clusters[\"TOURIST_ATTRACTION\"] = get_similar_words(['attraction','ancient','castle','museum','church','volcano'], top=n, nlp=nlp1)\n",
        "dic_clusters[\"LOCAL_FOOD_DRINK\"] = get_similar_words(['food','drink','cuisine','vegetables','wine','eat','traditional'], top=n, nlp=nlp1)\n",
        "dic_clusters[\"NOTABLE_PERSON\"] = get_similar_words(['person','name','notable','born','died'], top=n, nlp=nlp1)\n",
        "dic_clusters[\"CLIMATE\"] = get_similar_words(['climate','weather','rain','temperature','month'], top=n, nlp=nlp1)\n",
        "dic_clusters[\"HEALTHCARE\"] = get_similar_words(['hospital','medical','healthcare','emergency','doctor',], top=n, nlp=nlp1)\n",
        "dic_clusters[\"INFORMATION\"] = get_similar_words(['atm','rent','information','useful','driving','knowledge'], top=n, nlp=nlp1)\n",
        "\n",
        "## print some\n",
        "for k,v in dic_clusters.items():\n",
        "    print(k, \": \", v[0:len(v)], \"...\", len(v))\n",
        "\n"
      ]
    },
    {
      "cell_type": "code",
      "execution_count": null,
      "metadata": {
        "id": "lfnV-sRIj3GM"
      },
      "outputs": [],
      "source": [
        "#Removing Punctuation, Null entries and stopwords\n",
        "\n",
        "def Cleaning_1_1(dic_clusters):\n",
        "\n",
        "  lst_stopwords = nltk.corpus.stopwords.words(\"english\")\n",
        "\n",
        "  for k,v in dic_clusters.items():\n",
        "    for word in v:\n",
        "      if len(word)<=2:\n",
        "        v.remove(word)\n",
        "\n",
        "    for i in lst_stopwords:\n",
        "      if i in v:\n",
        "        v.remove(i)\n",
        "\n",
        "    new_list = v\n",
        "    dic_clusters.update({k: list(filter(None, new_list))})\n",
        "\n",
        "  return dic_clusters"
      ]
    },
    {
      "cell_type": "code",
      "execution_count": null,
      "metadata": {
        "id": "G1PgdvIAuACr"
      },
      "outputs": [],
      "source": [
        "#Removing duplicates between the dictionaries\n",
        "\n",
        "def Cleaning_1_2(dic_clusters):\n",
        "  seen = set()\n",
        "  repeated = set()\n",
        "  new_list=[]\n",
        "\n",
        "  for k,v in dic_clusters.items():\n",
        "    for i in set(v):\n",
        "      if i in seen:\n",
        "        repeated.add(i)\n",
        "      else:\n",
        "        seen.add(i) \n",
        "    \n",
        "  for i in repeated:\n",
        "    x=0\n",
        "    for k,v in dic_clusters.items():\n",
        "      new_list2 = v\n",
        "      if i in v:\n",
        "        x=x+1\n",
        "        if x>1:\n",
        "          new_list2.remove(i)\n",
        "     \n",
        "      dic_clusters.update({k: new_list2})\n"
      ]
    },
    {
      "cell_type": "markdown",
      "metadata": {
        "id": "V8El80-ttp6s"
      },
      "source": [
        "# Πειραμα 1.1"
      ]
    },
    {
      "cell_type": "code",
      "execution_count": null,
      "metadata": {
        "colab": {
          "base_uri": "https://localhost:8080/"
        },
        "id": "eeS5Rjx2tpcf",
        "outputId": "e0cc03ec-6381-4914-81ac-601579415ba9"
      },
      "outputs": [
        {
          "output_type": "stream",
          "name": "stdout",
          "text": [
            "PLACE :  ['culture', 'place', 'myth', 'fact', 'historical', 'life', 'modern', 'history', 'part', 'tradition', 'town', 'one', 'village', 'century', 'time', 'ancient'] ... 16\n",
            "BEACH :  ['inland', 'sea', 'fish', 'water', 'surf', 'along', 'lagoon', 'pond', 'mud', 'swimming', 'waters', 'boat', 'coastal', 'shallow', 'shores', 'shoreline', 'beach', 'swim', 'shore', 'boats', 'washed', 'river', 'surface', 'seas', 'beaches', 'fishing', 'lake', 'coral', 'sand', 'ocean'] ... 30\n",
            "ACTIVITY :  ['walking', 'concert', 'riding', 'ride', 'rides', 'trip', 'coming', 'cycling', 'activities', 'events', 'bike', 'event', 'day', 'festival', 'weekend', 'year', 'traveling', 'part', 'activity', 'festivals', 'trips', 'summer', 'tours', 'tour', 'touring'] ... 25\n",
            "TOURIST_ATTRACTION :  ['monument', 'church', 'famous', 'historical', 'attractions', 'temple', 'cathedral', 'monastery', 'historic', 'near', 'site', 'built', 'volcano', 'ruins', 'castle', 'museum', 'situated', 'archaeological', 'town', 'village', 'nearby', 'century', 'palace', 'attraction', 'medieval', 'heritage', 'ancient', 'located', 'chapel', 'park', 'preserved'] ... 31\n",
            "LOCAL_FOOD_DRINK :  ['restaurants', 'dish', 'snacks', 'foods', 'drink', 'drinks', 'meat', 'bread', 'dessert', 'beer', 'cooked', 'traditional', 'cooking', 'eating', 'taste', 'meals', 'fruits', 'cuisine', 'food', 'eaten', 'ingredients', 'coffee', 'fruit', 'vegetable', 'seafood', 'chicken', 'eat', 'meal', 'dishes', 'vegetables', 'wine', 'ate'] ... 32\n",
            "NOTABLE_PERSON :  ['woman', 'father', 'named', 'brother', 'married', 'names', 'notable', 'famous', 'death', 'whose', 'person', 'known', 'lived', 'although', 'name', 'one', 'son', 'born', 'mother', 'daughter', 'may', 'man', 'died'] ... 23\n",
            "CLIMATE :  ['rainfall', 'dry', 'winter', 'precipitation', 'weather', 'month', 'change', 'storms', 'rains', 'temperatures', 'warmer', 'temperature', 'cold', 'warming', 'wind', 'humidity', 'warm', 'humid', 'rain', 'day', 'winds', 'snow', 'forecast', 'expected', 'due', 'climate', 'days', 'conditions', 'cooler', 'rainy'] ... 30\n",
            "HEALTHCARE :  ['nurse', 'emergency', 'ambulance', 'doctor', 'physicians', 'veterinary', 'hospitals', 'medicine', 'dental', 'nurses', 'nursing', 'dr.', 'pediatric', 'medical', 'doctors', 'patient', 'services', 'treatment', 'healthcare', 'surgery', 'patients', 'outpatient', 'health', 'hospital', 'care', 'physician', 'psychiatric', 'surgical', 'clinic', 'clinical'] ... 30\n",
            "INFORMATION :  ['information', 'means', 'provides', 'useful', 'without', 'use', 'provided', 'certain', 'data', 'access', 'knowledge', 'using', 'allows', 'example', 'providing', 'instance', 'need', 'available', 'driving', 'atm', 'rent', 'provide', 'specific', 'money', 'required', 'rather'] ... 26\n"
          ]
        }
      ],
      "source": [
        "\n",
        "Cleaning_1_1(dic_clusters)\n",
        "\n",
        "for k,v in dic_clusters.items():\n",
        "    print(k, \": \", v[0:len(v)], \"...\", len(v))\n"
      ]
    },
    {
      "cell_type": "markdown",
      "metadata": {
        "id": "Z6-4TQhwtzes"
      },
      "source": [
        "# Πειραμα 1.2"
      ]
    },
    {
      "cell_type": "code",
      "execution_count": null,
      "metadata": {
        "colab": {
          "base_uri": "https://localhost:8080/"
        },
        "id": "WCMLwlL_tzwB",
        "outputId": "9033bdd6-1f03-44b2-e2dc-c6f3d09631c1"
      },
      "outputs": [
        {
          "output_type": "stream",
          "name": "stdout",
          "text": [
            "PLACE :  ['culture', 'place', 'myth', 'fact', 'historical', 'life', 'modern', 'history', 'part', 'tradition', 'town', 'one', 'village', 'century', 'time', 'ancient'] ... 16\n",
            "BEACH :  ['inland', 'sea', 'fish', 'water', 'surf', 'along', 'lagoon', 'pond', 'mud', 'swimming', 'waters', 'boat', 'coastal', 'shallow', 'shores', 'shoreline', 'beach', 'swim', 'shore', 'boats', 'washed', 'river', 'surface', 'seas', 'beaches', 'fishing', 'lake', 'coral', 'sand', 'ocean'] ... 30\n",
            "ACTIVITY :  ['walking', 'concert', 'riding', 'ride', 'rides', 'trip', 'coming', 'cycling', 'activities', 'events', 'bike', 'event', 'day', 'festival', 'weekend', 'year', 'traveling', 'activity', 'festivals', 'trips', 'summer', 'tours', 'tour', 'touring'] ... 24\n",
            "TOURIST_ATTRACTION :  ['monument', 'church', 'famous', 'attractions', 'temple', 'cathedral', 'monastery', 'historic', 'near', 'site', 'built', 'volcano', 'ruins', 'castle', 'museum', 'situated', 'archaeological', 'nearby', 'palace', 'attraction', 'medieval', 'heritage', 'located', 'chapel', 'park', 'preserved'] ... 26\n",
            "LOCAL_FOOD_DRINK :  ['restaurants', 'dish', 'snacks', 'foods', 'drink', 'drinks', 'meat', 'bread', 'dessert', 'beer', 'cooked', 'traditional', 'cooking', 'eating', 'taste', 'meals', 'fruits', 'cuisine', 'food', 'eaten', 'ingredients', 'coffee', 'fruit', 'vegetable', 'seafood', 'chicken', 'eat', 'meal', 'dishes', 'vegetables', 'wine', 'ate'] ... 32\n",
            "NOTABLE_PERSON :  ['woman', 'father', 'named', 'brother', 'married', 'names', 'notable', 'death', 'whose', 'person', 'known', 'lived', 'although', 'name', 'son', 'born', 'mother', 'daughter', 'may', 'man', 'died'] ... 21\n",
            "CLIMATE :  ['rainfall', 'dry', 'winter', 'precipitation', 'weather', 'month', 'change', 'storms', 'rains', 'temperatures', 'warmer', 'temperature', 'cold', 'warming', 'wind', 'humidity', 'warm', 'humid', 'rain', 'winds', 'snow', 'forecast', 'expected', 'due', 'climate', 'days', 'conditions', 'cooler', 'rainy'] ... 29\n",
            "HEALTHCARE :  ['nurse', 'emergency', 'ambulance', 'doctor', 'physicians', 'veterinary', 'hospitals', 'medicine', 'dental', 'nurses', 'nursing', 'dr.', 'pediatric', 'medical', 'doctors', 'patient', 'services', 'treatment', 'healthcare', 'surgery', 'patients', 'outpatient', 'health', 'hospital', 'care', 'physician', 'psychiatric', 'surgical', 'clinic', 'clinical'] ... 30\n",
            "INFORMATION :  ['information', 'means', 'provides', 'useful', 'without', 'use', 'provided', 'certain', 'data', 'access', 'knowledge', 'using', 'allows', 'example', 'providing', 'instance', 'need', 'available', 'driving', 'atm', 'rent', 'provide', 'specific', 'money', 'required', 'rather'] ... 26\n"
          ]
        }
      ],
      "source": [
        "\n",
        "Cleaning_1_2(dic_clusters)\n",
        "\n",
        "for k,v in dic_clusters.items():\n",
        "    print(k, \": \", v[0:len(v)], \"...\", len(v))\n"
      ]
    },
    {
      "cell_type": "markdown",
      "metadata": {
        "id": "vVyVzBJnnw-5"
      },
      "source": [
        "LOADING AND PREPROCESSING THE TEST SET"
      ]
    },
    {
      "cell_type": "code",
      "execution_count": null,
      "metadata": {
        "id": "1tz5gDkvjdO0"
      },
      "outputs": [],
      "source": [
        "#preprocessing and cleaning method\n",
        "\n",
        "'''\n",
        "Preprocess a string.\n",
        ":parameter\n",
        "    :param text: string - name of column containing text\n",
        "    :param lst_stopwords: list - list of stopwords to remove\n",
        "    :param flg_stemm: bool - whether stemming is to be applied\n",
        "    :param flg_lemm: bool - whether lemmitisation is to be applied\n",
        ":return\n",
        "    cleaned text\n",
        "'''\n",
        "def utils_preprocess_text(text, flg_stemm=False, flg_lemm=True, lst_stopwords=None):\n",
        "    ## clean (convert to lowercase and remove punctuations and characters and then strip)\n",
        "    text = re.sub(r'[^\\w\\s]', '', str(text).lower().strip())\n",
        "            \n",
        "    ## Tokenize (convert from string to list)\n",
        "    lst_text = text.split()    \n",
        "    ## remove Stopwords\n",
        "    if lst_stopwords is not None:\n",
        "        lst_text = [word for word in lst_text if word not in \n",
        "                    lst_stopwords]\n",
        "                \n",
        "    ## Stemming (remove -ing, -ly, ...)\n",
        "    if flg_stemm == True:\n",
        "        ps = nltk.stem.porter.PorterStemmer()\n",
        "        lst_text = [ps.stem(word) for word in lst_text]\n",
        "                \n",
        "    ## Lemmatisation (convert the word into root word)\n",
        "    if flg_lemm == True:\n",
        "        lem = nltk.stem.wordnet.WordNetLemmatizer()\n",
        "        lst_text = [lem.lemmatize(word) for word in lst_text]\n",
        "            \n",
        "    ## back to string from list\n",
        "    text = \" \".join(lst_text)\n",
        "    return text"
      ]
    },
    {
      "cell_type": "code",
      "execution_count": null,
      "metadata": {
        "colab": {
          "base_uri": "https://localhost:8080/"
        },
        "id": "kExhYsf0dzbs",
        "outputId": "fbadccae-0a40-428f-94dc-b49e12b38e47"
      },
      "outputs": [
        {
          "output_type": "execute_result",
          "data": {
            "text/plain": [
              "                                        text             label  \\\n",
              "0   Are there any quiet beaches in Akrotiri?             BEACH   \n",
              "1  Fun things to do in Santorini for couples          ACTIVITY   \n",
              "2       Traditional food to try in Santorini  LOCAL_FOOD_DRINK   \n",
              "3                    Average weather in July           CLIMATE   \n",
              "4       I want to go for a boat tour, can I?          ACTIVITY   \n",
              "\n",
              "                       text_clean  \n",
              "0            quiet beach akrotiri  \n",
              "1      fun thing santorini couple  \n",
              "2  traditional food try santorini  \n",
              "3            average weather july  \n",
              "4               want go boat tour  "
            ],
            "text/html": [
              "\n",
              "  <div id=\"df-db9ea26c-a397-4036-9669-c0b6c33c70cf\">\n",
              "    <div class=\"colab-df-container\">\n",
              "      <div>\n",
              "<style scoped>\n",
              "    .dataframe tbody tr th:only-of-type {\n",
              "        vertical-align: middle;\n",
              "    }\n",
              "\n",
              "    .dataframe tbody tr th {\n",
              "        vertical-align: top;\n",
              "    }\n",
              "\n",
              "    .dataframe thead th {\n",
              "        text-align: right;\n",
              "    }\n",
              "</style>\n",
              "<table border=\"1\" class=\"dataframe\">\n",
              "  <thead>\n",
              "    <tr style=\"text-align: right;\">\n",
              "      <th></th>\n",
              "      <th>text</th>\n",
              "      <th>label</th>\n",
              "      <th>text_clean</th>\n",
              "    </tr>\n",
              "  </thead>\n",
              "  <tbody>\n",
              "    <tr>\n",
              "      <th>0</th>\n",
              "      <td>Are there any quiet beaches in Akrotiri?</td>\n",
              "      <td>BEACH</td>\n",
              "      <td>quiet beach akrotiri</td>\n",
              "    </tr>\n",
              "    <tr>\n",
              "      <th>1</th>\n",
              "      <td>Fun things to do in Santorini for couples</td>\n",
              "      <td>ACTIVITY</td>\n",
              "      <td>fun thing santorini couple</td>\n",
              "    </tr>\n",
              "    <tr>\n",
              "      <th>2</th>\n",
              "      <td>Traditional food to try in Santorini</td>\n",
              "      <td>LOCAL_FOOD_DRINK</td>\n",
              "      <td>traditional food try santorini</td>\n",
              "    </tr>\n",
              "    <tr>\n",
              "      <th>3</th>\n",
              "      <td>Average weather in July</td>\n",
              "      <td>CLIMATE</td>\n",
              "      <td>average weather july</td>\n",
              "    </tr>\n",
              "    <tr>\n",
              "      <th>4</th>\n",
              "      <td>I want to go for a boat tour, can I?</td>\n",
              "      <td>ACTIVITY</td>\n",
              "      <td>want go boat tour</td>\n",
              "    </tr>\n",
              "  </tbody>\n",
              "</table>\n",
              "</div>\n",
              "      <button class=\"colab-df-convert\" onclick=\"convertToInteractive('df-db9ea26c-a397-4036-9669-c0b6c33c70cf')\"\n",
              "              title=\"Convert this dataframe to an interactive table.\"\n",
              "              style=\"display:none;\">\n",
              "        \n",
              "  <svg xmlns=\"http://www.w3.org/2000/svg\" height=\"24px\"viewBox=\"0 0 24 24\"\n",
              "       width=\"24px\">\n",
              "    <path d=\"M0 0h24v24H0V0z\" fill=\"none\"/>\n",
              "    <path d=\"M18.56 5.44l.94 2.06.94-2.06 2.06-.94-2.06-.94-.94-2.06-.94 2.06-2.06.94zm-11 1L8.5 8.5l.94-2.06 2.06-.94-2.06-.94L8.5 2.5l-.94 2.06-2.06.94zm10 10l.94 2.06.94-2.06 2.06-.94-2.06-.94-.94-2.06-.94 2.06-2.06.94z\"/><path d=\"M17.41 7.96l-1.37-1.37c-.4-.4-.92-.59-1.43-.59-.52 0-1.04.2-1.43.59L10.3 9.45l-7.72 7.72c-.78.78-.78 2.05 0 2.83L4 21.41c.39.39.9.59 1.41.59.51 0 1.02-.2 1.41-.59l7.78-7.78 2.81-2.81c.8-.78.8-2.07 0-2.86zM5.41 20L4 18.59l7.72-7.72 1.47 1.35L5.41 20z\"/>\n",
              "  </svg>\n",
              "      </button>\n",
              "      \n",
              "  <style>\n",
              "    .colab-df-container {\n",
              "      display:flex;\n",
              "      flex-wrap:wrap;\n",
              "      gap: 12px;\n",
              "    }\n",
              "\n",
              "    .colab-df-convert {\n",
              "      background-color: #E8F0FE;\n",
              "      border: none;\n",
              "      border-radius: 50%;\n",
              "      cursor: pointer;\n",
              "      display: none;\n",
              "      fill: #1967D2;\n",
              "      height: 32px;\n",
              "      padding: 0 0 0 0;\n",
              "      width: 32px;\n",
              "    }\n",
              "\n",
              "    .colab-df-convert:hover {\n",
              "      background-color: #E2EBFA;\n",
              "      box-shadow: 0px 1px 2px rgba(60, 64, 67, 0.3), 0px 1px 3px 1px rgba(60, 64, 67, 0.15);\n",
              "      fill: #174EA6;\n",
              "    }\n",
              "\n",
              "    [theme=dark] .colab-df-convert {\n",
              "      background-color: #3B4455;\n",
              "      fill: #D2E3FC;\n",
              "    }\n",
              "\n",
              "    [theme=dark] .colab-df-convert:hover {\n",
              "      background-color: #434B5C;\n",
              "      box-shadow: 0px 1px 3px 1px rgba(0, 0, 0, 0.15);\n",
              "      filter: drop-shadow(0px 1px 2px rgba(0, 0, 0, 0.3));\n",
              "      fill: #FFFFFF;\n",
              "    }\n",
              "  </style>\n",
              "\n",
              "      <script>\n",
              "        const buttonEl =\n",
              "          document.querySelector('#df-db9ea26c-a397-4036-9669-c0b6c33c70cf button.colab-df-convert');\n",
              "        buttonEl.style.display =\n",
              "          google.colab.kernel.accessAllowed ? 'block' : 'none';\n",
              "\n",
              "        async function convertToInteractive(key) {\n",
              "          const element = document.querySelector('#df-db9ea26c-a397-4036-9669-c0b6c33c70cf');\n",
              "          const dataTable =\n",
              "            await google.colab.kernel.invokeFunction('convertToInteractive',\n",
              "                                                     [key], {});\n",
              "          if (!dataTable) return;\n",
              "\n",
              "          const docLinkHtml = 'Like what you see? Visit the ' +\n",
              "            '<a target=\"_blank\" href=https://colab.research.google.com/notebooks/data_table.ipynb>data table notebook</a>'\n",
              "            + ' to learn more about interactive tables.';\n",
              "          element.innerHTML = '';\n",
              "          dataTable['output_type'] = 'display_data';\n",
              "          await google.colab.output.renderOutput(dataTable, element);\n",
              "          const docLink = document.createElement('div');\n",
              "          docLink.innerHTML = docLinkHtml;\n",
              "          element.appendChild(docLink);\n",
              "        }\n",
              "      </script>\n",
              "    </div>\n",
              "  </div>\n",
              "  "
            ]
          },
          "metadata": {},
          "execution_count": 9
        }
      ],
      "source": [
        "dtf = pd.read_csv(\"Question_Classification_TestSet.csv\")\n",
        "dtf.head()\n",
        "\n",
        "lst_stopwords = nltk.corpus.stopwords.words(\"english\")\n",
        "#print(lst_stopwords)\n",
        "\n",
        "dtf[\"text_clean\"] = dtf[\"text\"].apply(lambda x: \n",
        "          utils_preprocess_text(x, flg_stemm=False, flg_lemm=True, \n",
        "          lst_stopwords=lst_stopwords))\n",
        "dtf.head()"
      ]
    },
    {
      "cell_type": "markdown",
      "metadata": {
        "id": "bZ8pTq_em3TI"
      },
      "source": [
        "LOADING BERT"
      ]
    },
    {
      "cell_type": "code",
      "execution_count": null,
      "metadata": {
        "colab": {
          "base_uri": "https://localhost:8080/"
        },
        "id": "1aTGwIv4XPrm",
        "outputId": "d91d9fb2-dbca-4775-c232-49e37956af9e"
      },
      "outputs": [
        {
          "output_type": "stream",
          "name": "stderr",
          "text": [
            "Some layers from the model checkpoint at bert-base-uncased were not used when initializing TFBertModel: ['mlm___cls', 'nsp___cls']\n",
            "- This IS expected if you are initializing TFBertModel from the checkpoint of a model trained on another task or with another architecture (e.g. initializing a BertForSequenceClassification model from a BertForPreTraining model).\n",
            "- This IS NOT expected if you are initializing TFBertModel from the checkpoint of a model that you expect to be exactly identical (initializing a BertForSequenceClassification model from a BertForSequenceClassification model).\n",
            "All the layers of TFBertModel were initialized from the model checkpoint at bert-base-uncased.\n",
            "If your task is similar to the task the model of the checkpoint was trained on, you can already use TFBertModel for predictions without further training.\n"
          ]
        }
      ],
      "source": [
        "tokenizer = transformers.BertTokenizer.from_pretrained('bert-base-uncased', do_lower_case=True)\n",
        "nlp = transformers.TFBertModel.from_pretrained('bert-base-uncased')\n"
      ]
    },
    {
      "cell_type": "markdown",
      "metadata": {
        "id": "7nD346e-pNWh"
      },
      "source": []
    },
    {
      "cell_type": "code",
      "execution_count": null,
      "metadata": {
        "id": "nKmB229lXdNw"
      },
      "outputs": [],
      "source": [
        "## function to apply\n",
        "def utils_bert_embedding(txt, tokenizer, nlp):\n",
        "    idx = tokenizer.encode(txt)\n",
        "    idx = np.array(idx)[None,:]  \n",
        "    embedding = nlp(idx)\n",
        "    X = np.array(embedding[0][0][1:-1])\n",
        "    return X\n",
        "\n",
        "\n",
        "## create list of news vector\n",
        "lst_mean_vecs = [utils_bert_embedding(txt, tokenizer, nlp).mean(0) \n",
        "                 for txt in dtf[\"text_clean\"]]\n",
        "## create the feature matrix (n news x 768)\n",
        "X = np.array(lst_mean_vecs)\n",
        "\n",
        "#print(X)\n",
        "#print(lst_mean_vecs)"
      ]
    },
    {
      "cell_type": "markdown",
      "metadata": {
        "id": "_TDvcnJnpbYZ"
      },
      "source": []
    },
    {
      "cell_type": "code",
      "execution_count": null,
      "metadata": {
        "id": "dka5rzfnXlz1"
      },
      "outputs": [],
      "source": [
        "dic_y = {k:utils_bert_embedding(v, tokenizer, nlp).mean(0) for k,v\n",
        "         in dic_clusters.items()}\n",
        "\n",
        "\n",
        "#for y in dic_y.values():\n",
        "  #print(y.shape)\n",
        "  #print(y)\n",
        "  #print(\"TO RESHAPED\", y.reshape(1, -1).shape)\n"
      ]
    },
    {
      "cell_type": "markdown",
      "metadata": {
        "id": "R_PnGGTCpb8B"
      },
      "source": []
    },
    {
      "cell_type": "code",
      "execution_count": null,
      "metadata": {
        "id": "_9QnryVQpmAZ",
        "colab": {
          "base_uri": "https://localhost:8080/"
        },
        "outputId": "fcefe8f5-904a-472d-8202-1219f1f59dbb"
      },
      "outputs": [
        {
          "output_type": "stream",
          "name": "stdout",
          "text": [
            "['PLACE', 'PLACE', 'LOCAL_FOOD_DRINK', 'CLIMATE', 'ACTIVITY', 'ACTIVITY', 'TOURIST_ATTRACTION', 'TOURIST_ATTRACTION', 'PLACE', 'NOTABLE_PERSON', 'PLACE', 'TOURIST_ATTRACTION', 'INFORMATION', 'INFORMATION', 'ACTIVITY', 'CLIMATE', 'PLACE', 'PLACE', 'BEACH', 'CLIMATE', 'ACTIVITY', 'LOCAL_FOOD_DRINK', 'BEACH', 'NOTABLE_PERSON', 'PLACE', 'CLIMATE', 'INFORMATION', 'ACTIVITY', 'HEALTHCARE', 'TOURIST_ATTRACTION', 'PLACE', 'INFORMATION']\n"
          ]
        }
      ],
      "source": [
        "#--- Model Algorithm ---#\n",
        "## compute cosine similarities\n",
        "similarities = np.array(\n",
        "            [metrics.pairwise.cosine_similarity(lst_mean_vecs, y.reshape(1, -1)).T.tolist()[0] \n",
        "             for y in dic_y.values()]\n",
        "            ).T\n",
        "#print(similarities)     \n",
        "\n",
        "## adjust and rescale\n",
        "labels = list(dic_y.keys())\n",
        "for i in range(len(similarities)):\n",
        "    ### assign randomly if there is no similarity\n",
        "    if sum(similarities[i]) == 0:\n",
        "       similarities[i] = [0]*len(labels)\n",
        "       similarities[i][np.random.choice(range(len(labels)))] = 1\n",
        "    ### rescale so they sum = 1\n",
        "    similarities[i] = similarities[i] / sum(similarities[i])\n",
        "\n",
        "## classify the label with highest similarity score\n",
        "predicted_prob = similarities\n",
        "predicted = [labels[np.argmax(pred)] for pred in predicted_prob]\n",
        "\n",
        "print(predicted)"
      ]
    },
    {
      "cell_type": "markdown",
      "metadata": {
        "id": "oBnZ5-85pocy"
      },
      "source": []
    },
    {
      "cell_type": "code",
      "execution_count": null,
      "metadata": {
        "id": "PZL3tsakprss",
        "colab": {
          "base_uri": "https://localhost:8080/"
        },
        "outputId": "5c7703c8-c586-4d97-b18c-01a9abb7da5f"
      },
      "outputs": [
        {
          "output_type": "stream",
          "name": "stdout",
          "text": [
            "Accuracy: 0.75\n",
            "Auc: 0.51\n",
            "Detail:\n",
            "                    precision    recall  f1-score   support\n",
            "\n",
            "          ACTIVITY       0.60      0.75      0.67         4\n",
            "             BEACH       0.50      0.33      0.40         3\n",
            "           CLIMATE       1.00      1.00      1.00         4\n",
            "        HEALTHCARE       1.00      0.33      0.50         3\n",
            "       INFORMATION       0.75      0.75      0.75         4\n",
            "  LOCAL_FOOD_DRINK       1.00      0.67      0.80         3\n",
            "    NOTABLE_PERSON       1.00      0.67      0.80         3\n",
            "             PLACE       0.62      1.00      0.77         5\n",
            "TOURIST_ATTRACTION       0.75      1.00      0.86         3\n",
            "\n",
            "          accuracy                           0.75        32\n",
            "         macro avg       0.80      0.72      0.73        32\n",
            "      weighted avg       0.79      0.75      0.74        32\n",
            "\n"
          ]
        },
        {
          "output_type": "display_data",
          "data": {
            "text/plain": [
              "<Figure size 1440x288 with 1 Axes>"
            ],
            "image/png": "[encoded data removed]"
          },
          "metadata": {
            "needs_background": "light"
          }
        }
      ],
      "source": [
        "y_test = dtf[\"label\"].values\n",
        "classes = np.unique(y_test)\n",
        "y_test_array = pd.get_dummies(y_test, drop_first=False).values\n",
        "\n",
        "\n",
        "## Accuracy, Precision, Recall\n",
        "accuracy = metrics.accuracy_score(y_test, predicted)\n",
        "auc = metrics.roc_auc_score(y_test, predicted_prob, \n",
        "                            multi_class=\"ovr\")\n",
        "print(\"Accuracy:\",  round(accuracy,2))\n",
        "print(\"Auc:\", round(auc,2))\n",
        "print(\"Detail:\")\n",
        "print(metrics.classification_report(y_test, predicted))\n",
        "\n",
        "\n",
        "\n",
        "## Plot confusion matrix\n",
        "cm = metrics.confusion_matrix(y_test, predicted)\n",
        "fig, ax = plt.subplots()\n",
        "sns.heatmap(cm, annot=True, fmt='d', ax=ax, cmap=plt.cm.Blues, \n",
        "            cbar=False)\n",
        "ax.set(xlabel=\"Pred\", ylabel=\"True\", xticklabels=classes, \n",
        "       yticklabels=classes, title=\"Confusion matrix\")\n",
        "plt.yticks(rotation=0)\n",
        "fig.set_figwidth(20)"
      ]
    }
  ],
  "metadata": {
    "colab": {
      "provenance": []
    },
    "kernelspec": {
      "display_name": "Python 3",
      "name": "python3"
    },
    "language_info": {
      "name": "python"
    }
  },
  "nbformat": 4,
  "nbformat_minor": 0
}